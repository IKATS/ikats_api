{
 "cells": [
  {
   "cell_type": "markdown",
   "metadata": {},
   "source": [
    "# IKATS Python API\n",
    "\n",
    "This Notebook is a tutorial about how to use the **IKATS Python API**."
   ]
  },
  {
   "cell_type": "code",
   "execution_count": 7,
   "metadata": {},
   "outputs": [],
   "source": [
    "# Import IKATS Api\n",
    "from ikats.api import IkatsAPI\n",
    "from ikats.exception import *"
   ]
  },
  {
   "cell_type": "code",
   "execution_count": 8,
   "metadata": {},
   "outputs": [],
   "source": [
    "# Create the API instance connected to localhost\n",
    "api = IkatsAPI(host=\"http://localhost\", port=80)"
   ]
  },
  {
   "cell_type": "markdown",
   "metadata": {},
   "source": [
    "## Dataset"
   ]
  },
  {
   "cell_type": "code",
   "execution_count": 20,
   "metadata": {},
   "outputs": [
    {
     "name": "stdout",
     "output_type": "stream",
     "text": [
      "There are 13 Timeseries in Dataset Portfolio\n"
     ]
    }
   ],
   "source": [
    "# Read a Dataset\n",
    "ds = api.ds.read(\"Portfolio\")\n",
    "print(\"There are %s Timeseries in Dataset %s\"%(len(ds), ds.name)) # You could also use `len(ds.ts)`"
   ]
  },
  {
   "cell_type": "code",
   "execution_count": 21,
   "metadata": {},
   "outputs": [
    {
     "name": "stdout",
     "output_type": "stream",
     "text": [
      "Dataset saved\n"
     ]
    }
   ],
   "source": [
    "# Save as a new Dataset\n",
    "ds.name = \"New_Name\"\n",
    "ds.description = \"My new description\"\n",
    "try:\n",
    "    api.ds.save(ds)\n",
    "    print(\"Dataset saved\")\n",
    "except IkatsConflictError:\n",
    "    print(\"Dataset already exist\")"
   ]
  },
  {
   "cell_type": "code",
   "execution_count": 22,
   "metadata": {},
   "outputs": [
    {
     "name": "stdout",
     "output_type": "stream",
     "text": [
      "Dataset deleted\n"
     ]
    }
   ],
   "source": [
    "# Delete the dataset\n",
    "try:\n",
    "    api.ds.delete(ds.name)\n",
    "    print(\"Dataset deleted\")\n",
    "except IkatsNotFoundError:\n",
    "    print(\"Dataset Not Found\")"
   ]
  },
  {
   "cell_type": "markdown",
   "metadata": {},
   "source": [
    "## Timeseries"
   ]
  },
  {
   "cell_type": "code",
   "execution_count": 25,
   "metadata": {},
   "outputs": [
    {
     "name": "stdout",
     "output_type": "stream",
     "text": [
      "Timeseries PORTFOLIO_EWA with TSUID D73FA5000001000001000002000002000003000009\n"
     ]
    }
   ],
   "source": [
    "# Select a Timeseries from the previous dataset\n",
    "ds = api.ds.read(\"Portfolio\")\n",
    "ts = ds.ts[0]\n",
    "print(\"Timeseries %s with TSUID %s\"%(ts.fid,ts.tsuid))"
   ]
  }
 ],
 "metadata": {
  "kernelspec": {
   "display_name": "Python 3",
   "language": "python",
   "name": "python3"
  },
  "language_info": {
   "codemirror_mode": {
    "name": "ipython",
    "version": 3
   },
   "file_extension": ".py",
   "mimetype": "text/x-python",
   "name": "python",
   "nbconvert_exporter": "python",
   "pygments_lexer": "ipython3",
   "version": "3.6.7"
  }
 },
 "nbformat": 4,
 "nbformat_minor": 2
}
