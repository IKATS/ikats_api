{
 "cells": [
  {
   "cell_type": "markdown",
   "metadata": {},
   "source": [
    "# IKATS Python API\n",
    "\n",
    "This Notebook is a tutorial about how to use the **IKATS Python API**."
   ]
  },
  {
   "cell_type": "code",
   "execution_count": 1,
   "metadata": {},
   "outputs": [],
   "source": [
    "# Import IKATS Api\n",
    "from ikats import IkatsAPI\n",
    "from ikats.exceptions import *\n",
    "from ikats.extra.timeseries import *\n",
    "\n",
    "# Create the API instance connected to localhost\n",
    "if False:\n",
    "    api = IkatsAPI(host=\"http://preprod.intra.ikats.org\", port=80)\n",
    "    api.session.tdm_url = \"/dev-datamodel\"\n",
    "    api.session.tsdb_url = \"/dev-opentsdb\"\n",
    "else:\n",
    "    api = IkatsAPI(host=\"http://localhost\", port=80)"
   ]
  },
  {
   "cell_type": "markdown",
   "metadata": {},
   "source": [
    "## Timeseries\n",
    "\n",
    "This part shows how to :\n",
    "- create a new Timeseries\n",
    "- add points to it (using a random points generator)\n",
    "- save it\n",
    "- delete it"
   ]
  },
  {
   "cell_type": "code",
   "execution_count": 2,
   "metadata": {},
   "outputs": [
    {
     "name": "stdout",
     "output_type": "stream",
     "text": [
      "New TS locally created: <LocalTimeseries>\n",
      "No TSUID is defined: None\n",
      "No FID is defined: None\n",
      "No points: []\n"
     ]
    }
   ],
   "source": [
    "# Create a local timeseries\n",
    "ts = api.ts.new()\n",
    "print(\"New TS locally created:\", ts)\n",
    "print(\"No TSUID is defined:\", ts.tsuid)\n",
    "print(\"No FID is defined:\", ts.fid)\n",
    "print(\"No points:\", ts.data)\n",
    "\n"
   ]
  },
  {
   "cell_type": "code",
   "execution_count": 5,
   "metadata": {},
   "outputs": [
    {
     "name": "stdout",
     "output_type": "stream",
     "text": [
      "A FID is added: MyTS\n",
      "but still no TSUID: None\n",
      "and the points are still there: 10\n"
     ]
    }
   ],
   "source": [
    "# Adding some random points\n",
    "ts.data = gen_random_ts(sd=1000000000000, ed=1000000010000, nb_points=10)\n",
    "\n",
    "# Set a FID\n",
    "ts.fid = \"MyTS\"\n",
    "print(\"A FID is added:\", ts.fid)\n",
    "print(\"but still no TSUID:\",ts.tsuid)\n",
    "print(\"and the points are still there:\", len(ts)) # You could also use `len(ts.data)`"
   ]
  },
  {
   "cell_type": "code",
   "execution_count": 6,
   "metadata": {},
   "outputs": [
    {
     "name": "stdout",
     "output_type": "stream",
     "text": [
      "The TSUID is now set to 13E3260000010006E10000020006E00000030006E2 (because of the save action)\n"
     ]
    }
   ],
   "source": [
    "# Now we save the TS and request to generate minimum metadata (ikats_start_date, ikats_end_date, qual_nb_points)\n",
    "ts.save(generate_metadata=True)\n",
    "\n",
    "# Check what's new\n",
    "print(\"The TSUID is now set to %s (because of the save action)\" % ts.tsuid)"
   ]
  },
  {
   "cell_type": "code",
   "execution_count": 10,
   "metadata": {},
   "outputs": [
    {
     "name": "stdout",
     "output_type": "stream",
     "text": [
      "The length of the TS has increased : 30\n"
     ]
    }
   ],
   "source": [
    "# We can still add points locally\n",
    "ts.data.extend(gen_random_ts(sd=1000000011000, ed=1000000020000, nb_points=10))\n",
    "print(\"The length of the TS has increased : %s\" % len(ts))\n",
    "\n",
    "# But we need to save them.\n",
    "ts.save()"
   ]
  },
  {
   "cell_type": "code",
   "execution_count": 15,
   "metadata": {},
   "outputs": [
    {
     "name": "stdout",
     "output_type": "stream",
     "text": [
      "The Timeseries has been deleted\n",
      "The Timeseries has already been deleted (second way to check it)\n"
     ]
    }
   ],
   "source": [
    "# Deletion of the Timeseries\n",
    "if ts.delete(raise_exception=False):\n",
    "    print(\"The Timeseries has been deleted\")\n",
    "\n",
    "try:\n",
    "    ts.delete(raise_exception=True)\n",
    "except:\n",
    "    # not working : see bugs #2738\n",
    "    print(\"The Timeseries has already been deleted (first way to check it)\")\n",
    "    \n",
    "if ts.delete(raise_exception=False):\n",
    "    print(\"The Timeseries has already been deleted (second way to check it)\")\n",
    "    \n",
    "# Timeseries still locally present. Save it again (for other cases to cover)\n",
    "ts.save()"
   ]
  },
  {
   "cell_type": "markdown",
   "metadata": {},
   "source": [
    "## Metadata"
   ]
  },
  {
   "cell_type": "code",
   "execution_count": 20,
   "metadata": {},
   "outputs": [
    {
     "name": "stdout",
     "output_type": "stream",
     "text": [
      "qual_nb_points=30\n",
      "This metadata doesn't exist\n"
     ]
    }
   ],
   "source": [
    "from ikats.objects.metadata_ import DTYPE\n",
    "\n",
    "# Add specific metadata locally (corresponding to \"generate_metadata\" flag of `ts.save()`)\n",
    "ts.metadata.set(name=\"qual_nb_points\", value=len(ts), dtype=DTYPE.NUMBER)\n",
    "ts.metadata.set(name=\"ikats_start_date\", value=ts.data[0][0], dtype=DTYPE.NUMBER)\n",
    "ts.metadata.set(name=\"ikats_end_date\", value=ts.data[-1][0], dtype=DTYPE.NUMBER)\n",
    "\n",
    "# Read metadata from local cache\n",
    "print (\"qual_nb_points=%d\"%ts.metadata.get(\"qual_nb_points\"))\n",
    "\n",
    "# Save metadata\n",
    "ts.metadata.save()\n",
    "\n",
    "# Delete metadata from local cache\n",
    "ts.metadata.set(name=\"test_md\", value=\"42\", dtype=DTYPE.STRING)\n",
    "ts.metadata.delete(name=\"test_md\")\n",
    "try:\n",
    "    ts.metadata.get(name=\"test_md\")\n",
    "except ValueError:\n",
    "    print(\"This metadata doesn't exist\")\n",
    "\n",
    "try:\n",
    "    ts.metadata.delete(name=\"test_md\")\n",
    "except IkatsNotFoundError:\n",
    "    print(\"This metadata doesn't exist\")\n",
    "\n"
   ]
  },
  {
   "cell_type": "markdown",
   "metadata": {},
   "source": [
    "## Dataset"
   ]
  },
  {
   "cell_type": "code",
   "execution_count": null,
   "metadata": {},
   "outputs": [],
   "source": [
    "# Get the list of all Datasets\n",
    "api.ds.list()"
   ]
  },
  {
   "cell_type": "code",
   "execution_count": null,
   "metadata": {},
   "outputs": [],
   "source": [
    "# Create a Dataset\n",
    "ds = api.ds.new(name=\"MyDataset\")"
   ]
  },
  {
   "cell_type": "code",
   "execution_count": null,
   "metadata": {},
   "outputs": [],
   "source": [
    "# Read a Dataset\n",
    "print(\"Getting Dataset '%s'\" % ds.name)\n",
    "print(\"The description of the Dataset is '%s'\" % ds.desc)\n",
    "print(\"The Dataset is composed of %s Timeseries:  \" % len(ds)) # You could also use `len(ds.ts)`\n",
    "for ts in ds.ts:\n",
    "    print(\"  - %s\" % ts)"
   ]
  },
  {
   "cell_type": "code",
   "execution_count": null,
   "metadata": {},
   "outputs": [],
   "source": [
    "# Save as a new Dataset\n",
    "ds.name = \"New_Name\"\n",
    "ds.description = \"My new description\"\n",
    "try:\n",
    "    api.ds.save(ds)\n",
    "    print(\"Dataset saved\")\n",
    "except IkatsConflictError:\n",
    "    print(\"Dataset already exist\")"
   ]
  },
  {
   "cell_type": "code",
   "execution_count": null,
   "metadata": {},
   "outputs": [],
   "source": [
    "# Delete the dataset\n",
    "ds.name = \"New_Name\"\n",
    "try:\n",
    "    api.ds.delete(ds.name)\n",
    "    print(\"Dataset deleted\")\n",
    "except IkatsNotFoundError:\n",
    "    print(\"Dataset Not Found\")"
   ]
  },
  {
   "cell_type": "code",
   "execution_count": null,
   "metadata": {},
   "outputs": [],
   "source": [
    "api.ts.tsdb_client._get_metric_tags_from_tsuid('4C08320000010006E60000020006E0000003000666')"
   ]
  },
  {
   "cell_type": "code",
   "execution_count": null,
   "metadata": {},
   "outputs": [],
   "source": []
  }
 ],
 "metadata": {
  "kernelspec": {
   "display_name": "Python 3",
   "language": "python",
   "name": "python3"
  },
  "language_info": {
   "codemirror_mode": {
    "name": "ipython",
    "version": 3
   },
   "file_extension": ".py",
   "mimetype": "text/x-python",
   "name": "python",
   "nbconvert_exporter": "python",
   "pygments_lexer": "ipython3",
   "version": "3.6.7"
  }
 },
 "nbformat": 4,
 "nbformat_minor": 2
}
