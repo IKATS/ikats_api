{
 "cells": [
  {
   "cell_type": "markdown",
   "metadata": {},
   "source": [
    "# IKATS Python API\n",
    "\n",
    "This Notebook is a tutorial about how to use the **IKATS Python API**."
   ]
  },
  {
   "cell_type": "code",
   "execution_count": null,
   "metadata": {},
   "outputs": [],
   "source": [
    "# Import IKATS Api\n",
    "from ikats import IkatsAPI\n",
    "from ikats.exceptions import *\n",
    "from ikats.extra.timeseries import *\n",
    "\n",
    "# Create the API instance connected to localhost (default with devKit)\n",
    "# If **IKATS_GUI_HOST** environment variable is set on running host, its content will be used as `host` for IkatsAPI instance\n",
    "api = IkatsAPI()"
   ]
  },
  {
   "cell_type": "markdown",
   "metadata": {},
   "source": [
    "## Timeseries\n",
    "\n",
    "This part shows how to :\n",
    "- create a new Timeseries\n",
    "- add points to it (using a random points generator)\n",
    "- save it\n",
    "- delete it"
   ]
  },
  {
   "cell_type": "code",
   "execution_count": null,
   "metadata": {},
   "outputs": [],
   "source": [
    "I_know_what_I_am_doing=False\n",
    "\n",
    "if I_know_what_I_am_doing:\n",
    "    # List all TS from backend\n",
    "    # Note : This action is not recommended because it scans all timeseries in backend database and may be long\n",
    "    result = api.ts.list()\n",
    "    print(len(result))\n",
    "else:\n",
    "    print(\"You choose the right flag !\")"
   ]
  },
  {
   "cell_type": "code",
   "execution_count": null,
   "metadata": {},
   "outputs": [],
   "source": [
    "# Create a local timeseries\n",
    "ts = api.ts.new()\n",
    "print(\"New TS locally created:\", ts)\n",
    "print(\"No TSUID is defined:\", ts.tsuid)\n",
    "print(\"No FID is defined:\", ts.fid)\n",
    "print(\"No points:\", ts.data)"
   ]
  },
  {
   "cell_type": "code",
   "execution_count": null,
   "metadata": {},
   "outputs": [],
   "source": [
    "# Adding some random points\n",
    "ts.data = gen_random_ts(sd=1000000000000, ed=1000000010000, nb_points=10)\n",
    "\n",
    "# Set a FID\n",
    "ts.fid = \"MyTS\"\n",
    "print(\"A FID is added:\", ts.fid)\n",
    "print(\"but still no TSUID:\",ts.tsuid)\n",
    "print(\"and the points are still there:\", len(ts)) # You could also use `len(ts.data)`"
   ]
  },
  {
   "cell_type": "code",
   "execution_count": null,
   "metadata": {},
   "outputs": [],
   "source": [
    "# From this point we need a valid connection to the IKATS backend\n",
    "\n",
    "# Now we save the TS and request to generate minimum metadata (ikats_start_date, ikats_end_date, qual_nb_points)\n",
    "ts.save(generate_metadata=True)\n",
    "\n",
    "# Check what's new\n",
    "print(\"The TSUID is now set to %s (because of the save action)\" % ts.tsuid)"
   ]
  },
  {
   "cell_type": "code",
   "execution_count": null,
   "metadata": {},
   "outputs": [],
   "source": [
    "# We can still add points locally\n",
    "ts.data += gen_random_ts(sd=1000000011000, ed=1000000020000, nb_points=10)\n",
    "print(\"The length of the TS has increased : %s\" % len(ts))\n",
    "\n",
    "# But we need to save them.\n",
    "ts.save()"
   ]
  },
  {
   "cell_type": "code",
   "execution_count": null,
   "metadata": {},
   "outputs": [],
   "source": [
    "# Deletion of the Timeseries\n",
    "if ts.delete(raise_exception=False):\n",
    "    print(\"The Timeseries has been deleted\")\n",
    "\n",
    "try:\n",
    "    ts.delete(raise_exception=True)\n",
    "except:\n",
    "    # not working : see bugs #2738\n",
    "    print(\"The Timeseries has already been deleted (first way to check it)\")\n",
    "    \n",
    "if ts.delete(raise_exception=False):\n",
    "    print(\"The Timeseries has already been deleted (second way to check it)\")"
   ]
  },
  {
   "cell_type": "code",
   "execution_count": null,
   "metadata": {},
   "outputs": [],
   "source": [
    "# Timeseries still locally present. Save it again (for next cases to cover)\n",
    "ts.save()"
   ]
  },
  {
   "cell_type": "markdown",
   "metadata": {},
   "source": [
    "## Metadata"
   ]
  },
  {
   "cell_type": "code",
   "execution_count": null,
   "metadata": {},
   "outputs": [],
   "source": [
    "from ikats.lib import MDType\n",
    "\n",
    "# Add specific metadata locally (corresponding to \"generate_metadata\" flag of `ts.save()`)\n",
    "ts.metadata.set(name=\"qual_nb_points\", value=len(ts), dtype=MDType.NUMBER)\n",
    "ts.metadata.set(name=\"ikats_start_date\", value=ts.data[0][0], dtype=MDType.NUMBER)\n",
    "ts.metadata.set(name=\"ikats_end_date\", value=ts.data[-1][0], dtype=MDType.NUMBER)\n",
    "\n",
    "# Read metadata from local cache\n",
    "print (\"qual_nb_points=%d\"%ts.metadata.get(\"qual_nb_points\"))\n",
    "\n",
    "# Save metadata\n",
    "ts.metadata.save()\n",
    "\n",
    "# Delete metadata from local cache\n",
    "ts.metadata.set(name=\"test_md\", value=\"42\", dtype=MDType.STRING)\n",
    "ts.metadata.delete(name=\"test_md\")\n",
    "try:\n",
    "    ts.metadata.get(name=\"test_md\")\n",
    "except IkatsNotFoundError:\n",
    "    print(\"This metadata doesn't exist\")\n",
    "\n",
    "# Overwrite local cache with remote database\n",
    "ts.metadata.fetch()\n",
    "print(\"Number of metadata %s\" % len(ts.metadata))\n",
    "\n",
    "# The metadata doesn't exist in remote but there is no way to know it locally.\n",
    "# This action marks the metadata as deleted.\n",
    "# Next time the metadata are saved, the deletion will occur on remote side\n",
    "ts.metadata.delete(name=\"test_md\")"
   ]
  },
  {
   "cell_type": "markdown",
   "metadata": {},
   "source": [
    "## Dataset"
   ]
  },
  {
   "cell_type": "code",
   "execution_count": null,
   "metadata": {},
   "outputs": [],
   "source": [
    "# Get the list of all Datasets\n",
    "api.ds.list()"
   ]
  },
  {
   "cell_type": "code",
   "execution_count": null,
   "metadata": {},
   "outputs": [],
   "source": [
    "# Create a Dataset (it should not exist in database)\n",
    "ds = api.ds.new(name=\"MyDataset\")"
   ]
  },
  {
   "cell_type": "code",
   "execution_count": null,
   "metadata": {},
   "outputs": [],
   "source": [
    "# Read a Dataset\n",
    "print(\"Getting Dataset '%s'\" % ds.name)\n",
    "print(\"The description of the Dataset is '%s'\" % ds.desc)\n",
    "print(\"The Dataset is composed of %s Timeseries:  \" % len(ds)) # You could also use `len(ds.ts)`\n",
    "for ts in ds.ts:\n",
    "    print(\"  - %s\" % ts)"
   ]
  },
  {
   "cell_type": "code",
   "execution_count": null,
   "metadata": {},
   "outputs": [],
   "source": [
    "# Save as a new Dataset\n",
    "ds.name = \"New_Name\"\n",
    "ds.description = \"My new description\"\n",
    "try:\n",
    "    api.ds.save(ds)\n",
    "except ValueError:\n",
    "    print(\"You shall add TS to dataset locally or you get a ValueError\")"
   ]
  },
  {
   "cell_type": "code",
   "execution_count": null,
   "metadata": {},
   "outputs": [],
   "source": [
    "try:\n",
    "    # Building a list of TS to attach to the dataset\n",
    "    ts_list = [api.ts.new(fid=\"FID_TEST_%s\" % x) for x in range(10)]\n",
    "    ds.ts = ts_list\n",
    "except IkatsConflictError:\n",
    "    print(\"You can't create a new TS with a FID that already exist\")\n",
    "\n",
    "try:\n",
    "    api.ds.save(ds)\n",
    "    print(\"Dataset saved\")\n",
    "except IkatsConflictError:\n",
    "    print(\"Dataset already exist\")"
   ]
  },
  {
   "cell_type": "code",
   "execution_count": null,
   "metadata": {},
   "outputs": [],
   "source": [
    "# Delete the dataset\n",
    "ds.name = \"New_Name\"\n",
    "try:\n",
    "    api.ds.delete(ds.name, deep=True)\n",
    "    print(\"Dataset deleted. Associated TS are also deleted\")\n",
    "except IkatsNotFoundError:\n",
    "    print(\"Dataset Not Found\")"
   ]
  },
  {
   "cell_type": "markdown",
   "metadata": {},
   "source": [
    "# Table\n",
    "\n",
    " Table is a format mainly used by frontend viztools to show some *augmented* standard tables.\n",
    " \n",
    " This format is not yet very efficient to be manipulated by operators.\n",
    " \n",
    " The implementation allow to do minimal interaction with tables."
   ]
  },
  {
   "cell_type": "code",
   "execution_count": null,
   "metadata": {},
   "outputs": [],
   "source": [
    "t_list = api.table.list()\n",
    "print(\"The list of tables present in database is %s\"%t_list)"
   ]
  },
  {
   "cell_type": "code",
   "execution_count": null,
   "metadata": {},
   "outputs": [],
   "source": [
    "# Delete a table (like any other object)\n",
    "if api.table.delete(name=\"anyTable\", raise_exception=False):\n",
    "    print(\"Table successfully deleted\")\n",
    "else:\n",
    "    print(\"Table not found\")"
   ]
  },
  {
   "cell_type": "code",
   "execution_count": null,
   "metadata": {},
   "outputs": [],
   "source": [
    "# Create a Table\n",
    "name=\"myTable\"\n",
    "table = api.table.new(name=name)\n",
    "table.data = {\n",
    "            \"table_desc\": {\n",
    "                \"desc\": \"table description\",\n",
    "                \"name\": name,\n",
    "                \"title\": \"Table Title\"\n",
    "            },\n",
    "            \"content\": {\n",
    "                \"cells\": [[1, 2, 3], [4, 5, 6]]\n",
    "            }\n",
    "        }\n"
   ]
  },
  {
   "cell_type": "code",
   "execution_count": null,
   "metadata": {},
   "outputs": [],
   "source": [
    "# If you make a mistake in table format, you'll have SchemaError:\n",
    "from schema import SchemaError\n",
    "try: \n",
    "    table.data = {\n",
    "                \"table_desc\": {\n",
    "                    \"desc\": \"table description\",\n",
    "                    \"title\": \"Table Title\"\n",
    "                },\n",
    "                \"content\": {\n",
    "                    \"cells\": [[1, 2, 3], [4, 5, 6]]\n",
    "                }\n",
    "            }\n",
    "except SchemaError as ex:\n",
    "    print(\"Error with Schema -> \",ex)"
   ]
  },
  {
   "cell_type": "code",
   "execution_count": null,
   "metadata": {},
   "outputs": [],
   "source": [
    "# But former data are kept in case of error\n",
    "table.data"
   ]
  },
  {
   "cell_type": "code",
   "execution_count": null,
   "metadata": {},
   "outputs": [],
   "source": [
    "# Save table\n",
    "table.save()\n",
    "\n",
    "# Saving a second time produces False or IkatsConflictError (depending on raise_exception flag)\n",
    "if not table.save(raise_exception=False):\n",
    "    print(\"Table already saved\")"
   ]
  },
  {
   "cell_type": "code",
   "execution_count": null,
   "metadata": {},
   "outputs": [],
   "source": [
    "# Read a table\n",
    "t2 = api.table.get(name=name)"
   ]
  },
  {
   "cell_type": "code",
   "execution_count": null,
   "metadata": {},
   "outputs": [],
   "source": [
    "# Delete the table\n",
    "if api.table.delete(name=name, raise_exception=False):\n",
    "    print(\"Table successfully deleted\")\n",
    "else:\n",
    "    print(\"Table not found\")"
   ]
  }
 ],
 "metadata": {
  "kernelspec": {
   "display_name": "Python 3",
   "language": "python",
   "name": "python3"
  },
  "language_info": {
   "codemirror_mode": {
    "name": "ipython",
    "version": 3
   },
   "file_extension": ".py",
   "mimetype": "text/x-python",
   "name": "python",
   "nbconvert_exporter": "python",
   "pygments_lexer": "ipython3",
   "version": "3.7.3"
  }
 },
 "nbformat": 4,
 "nbformat_minor": 2
}
