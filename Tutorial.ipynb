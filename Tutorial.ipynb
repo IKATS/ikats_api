{
 "cells": [
  {
   "cell_type": "markdown",
   "metadata": {},
   "source": [
    "# IKATS Python API\n",
    "\n",
    "This Notebook is a tutorial about how to use the **IKATS Python API**."
   ]
  },
  {
   "cell_type": "code",
   "execution_count": 10,
   "metadata": {},
   "outputs": [],
   "source": [
    "# Import IKATS Api\n",
    "from ikats import IkatsAPI\n",
    "from ikats.exceptions import *\n",
    "from ikats.extra.timeseries import *\n",
    "\n",
    "# Create the API instance connected to localhost\n",
    "if False:\n",
    "    api = IkatsAPI(host=\"http://preprod.intra.ikats.org\", port=80)\n",
    "    api.session.tdm_url = \"/dev-datamodel/TemporalDataManagerWebApp/webapi\"\n",
    "    api.session.tsdb_url = \"/dev-opentsdb\"\n",
    "else:\n",
    "    api = IkatsAPI(host=\"http://localhost\", port=80)"
   ]
  },
  {
   "cell_type": "markdown",
   "metadata": {},
   "source": [
    "## Timeseries"
   ]
  },
  {
   "cell_type": "code",
   "execution_count": 4,
   "metadata": {},
   "outputs": [
    {
     "name": "stdout",
     "output_type": "stream",
     "text": [
      "New TS locally created: <LocalTimeseries>\n",
      "No TSUID is defined: None\n",
      "No FID is defined: None\n",
      "No points: []\n",
      "A FID is added: MyTS\n",
      "but still no TSUID: None\n"
     ]
    }
   ],
   "source": [
    "# Create a local timeseries\n",
    "ts = api.ts.new()\n",
    "print(\"New TS locally created:\", ts)\n",
    "print(\"No TSUID is defined:\", ts.tsuid)\n",
    "print(\"No FID is defined:\", ts.fid)\n",
    "print(\"No points:\", ts.data)\n",
    "\n"
   ]
  },
  {
   "cell_type": "code",
   "execution_count": 6,
   "metadata": {},
   "outputs": [
    {
     "data": {
      "text/plain": [
       "[(1000, 3.8410460166373817),\n",
       " (2000, 7.21487658467913),\n",
       " (3000, 6.452724599451816),\n",
       " (4000, 3.2308085868790073),\n",
       " (5000, 6.383464993038379),\n",
       " (6000, 7.610412466812987),\n",
       " (7000, 10.571801820234308),\n",
       " (8000, 13.68995307003436),\n",
       " (9000, 17.936124326318247)]"
      ]
     },
     "execution_count": 6,
     "metadata": {},
     "output_type": "execute_result"
    }
   ],
   "source": [
    "# Adding some random points\n",
    "s"
   ]
  },
  {
   "cell_type": "code",
   "execution_count": 8,
   "metadata": {},
   "outputs": [
    {
     "name": "stdout",
     "output_type": "stream",
     "text": [
      "A FID is added: MyTS\n",
      "but still no TSUID: None\n",
      "and the points are still there: 9\n"
     ]
    }
   ],
   "source": [
    "# Set a FID\n",
    "ts.fid = \"MyTS\"\n",
    "print(\"A FID is added:\", ts.fid)\n",
    "print(\"but still no TSUID:\",ts.tsuid)\n",
    "print(\"and the points are still there:\", len(ts)) # You could also use `len(ts.data)`"
   ]
  },
  {
   "cell_type": "code",
   "execution_count": 9,
   "metadata": {},
   "outputs": [
    {
     "ename": "AttributeError",
     "evalue": "'Timeseries' object has no attribute 'save'",
     "output_type": "error",
     "traceback": [
      "\u001b[0;31m---------------------------------------------------------------------------\u001b[0m",
      "\u001b[0;31mAttributeError\u001b[0m                            Traceback (most recent call last)",
      "\u001b[0;32m<ipython-input-9-3bab21a5c155>\u001b[0m in \u001b[0;36m<module>\u001b[0;34m()\u001b[0m\n\u001b[1;32m      1\u001b[0m \u001b[0;31m# Now we save the TS\u001b[0m\u001b[0;34m\u001b[0m\u001b[0;34m\u001b[0m\u001b[0;34m\u001b[0m\u001b[0m\n\u001b[0;32m----> 2\u001b[0;31m \u001b[0mts\u001b[0m\u001b[0;34m.\u001b[0m\u001b[0msave\u001b[0m\u001b[0;34m(\u001b[0m\u001b[0;34m)\u001b[0m\u001b[0;34m\u001b[0m\u001b[0;34m\u001b[0m\u001b[0m\n\u001b[0m",
      "\u001b[0;31mAttributeError\u001b[0m: 'Timeseries' object has no attribute 'save'"
     ]
    }
   ],
   "source": [
    "# Now we save the TS\n",
    "ts.save()"
   ]
  },
  {
   "cell_type": "markdown",
   "metadata": {},
   "source": [
    "## Dataset"
   ]
  },
  {
   "cell_type": "code",
   "execution_count": 18,
   "metadata": {},
   "outputs": [
    {
     "data": {
      "text/plain": [
       "[Dataset Portfolio, Dataset DS_Airbus_TaxiIn]"
      ]
     },
     "execution_count": 18,
     "metadata": {},
     "output_type": "execute_result"
    }
   ],
   "source": [
    "# Get the list of all Datasets\n",
    "api.ds.list()"
   ]
  },
  {
   "cell_type": "code",
   "execution_count": 20,
   "metadata": {},
   "outputs": [],
   "source": [
    "# Create a Dataset\n",
    "ds = api.ds.new(\"MyDataset\")"
   ]
  },
  {
   "cell_type": "code",
   "execution_count": 19,
   "metadata": {},
   "outputs": [
    {
     "name": "stdout",
     "output_type": "stream",
     "text": [
      "Getting Dataset 'Portfolio'\n",
      "The description of the Dataset is 'Portfolio'\n",
      "The Dataset is composed of 13 Timeseries:  \n"
     ]
    },
    {
     "ename": "TypeError",
     "evalue": "'Dataset' object is not iterable",
     "output_type": "error",
     "traceback": [
      "\u001b[0;31m---------------------------------------------------------------------------\u001b[0m",
      "\u001b[0;31mTypeError\u001b[0m                                 Traceback (most recent call last)",
      "\u001b[0;32m<ipython-input-19-916c5e3b7bbb>\u001b[0m in \u001b[0;36m<module>\u001b[0;34m()\u001b[0m\n\u001b[1;32m      4\u001b[0m \u001b[0mprint\u001b[0m\u001b[0;34m(\u001b[0m\u001b[0;34m\"The description of the Dataset is '%s'\"\u001b[0m \u001b[0;34m%\u001b[0m \u001b[0mds\u001b[0m\u001b[0;34m.\u001b[0m\u001b[0mdesc\u001b[0m\u001b[0;34m)\u001b[0m\u001b[0;34m\u001b[0m\u001b[0;34m\u001b[0m\u001b[0m\n\u001b[1;32m      5\u001b[0m \u001b[0mprint\u001b[0m\u001b[0;34m(\u001b[0m\u001b[0;34m\"The Dataset is composed of %s Timeseries:  \"\u001b[0m \u001b[0;34m%\u001b[0m \u001b[0mlen\u001b[0m\u001b[0;34m(\u001b[0m\u001b[0mds\u001b[0m\u001b[0;34m)\u001b[0m\u001b[0;34m)\u001b[0m \u001b[0;31m# You could also use `len(ds.ts)`\u001b[0m\u001b[0;34m\u001b[0m\u001b[0;34m\u001b[0m\u001b[0m\n\u001b[0;32m----> 6\u001b[0;31m \u001b[0;32mfor\u001b[0m \u001b[0mts\u001b[0m \u001b[0;32min\u001b[0m \u001b[0mds\u001b[0m\u001b[0;34m.\u001b[0m\u001b[0mts\u001b[0m\u001b[0;34m:\u001b[0m\u001b[0;34m\u001b[0m\u001b[0;34m\u001b[0m\u001b[0m\n\u001b[0m\u001b[1;32m      7\u001b[0m     \u001b[0mprint\u001b[0m\u001b[0;34m(\u001b[0m\u001b[0;34m\"  - %s\"\u001b[0m \u001b[0;34m%\u001b[0m \u001b[0mts\u001b[0m\u001b[0;34m)\u001b[0m\u001b[0;34m\u001b[0m\u001b[0;34m\u001b[0m\u001b[0m\n",
      "\u001b[0;31mTypeError\u001b[0m: 'Dataset' object is not iterable"
     ]
    }
   ],
   "source": [
    "# Read a Dataset\n",
    "ds = api.ds.get(\"Portfolio\")\n",
    "print(\"Getting Dataset '%s'\" % ds.name)\n",
    "print(\"The description of the Dataset is '%s'\" % ds.desc)\n",
    "print(\"The Dataset is composed of %s Timeseries:  \" % len(ds)) # You could also use `len(ds.ts)`\n",
    "for ts in ds.ts:\n",
    "    print(\"  - %s\" % ts)"
   ]
  },
  {
   "cell_type": "code",
   "execution_count": 4,
   "metadata": {},
   "outputs": [
    {
     "name": "stdout",
     "output_type": "stream",
     "text": [
      "Dataset saved\n"
     ]
    }
   ],
   "source": [
    "# Save as a new Dataset\n",
    "ds.name = \"New_Name\"\n",
    "ds.description = \"My new description\"\n",
    "try:\n",
    "    api.ds.save(ds)\n",
    "    print(\"Dataset saved\")\n",
    "except IkatsConflictError:\n",
    "    print(\"Dataset already exist\")"
   ]
  },
  {
   "cell_type": "code",
   "execution_count": 5,
   "metadata": {},
   "outputs": [
    {
     "name": "stdout",
     "output_type": "stream",
     "text": [
      "Dataset deleted\n"
     ]
    }
   ],
   "source": [
    "# Delete the dataset\n",
    "ds.name = \"New_Name\"\n",
    "try:\n",
    "    api.ds.delete(ds.name)\n",
    "    print(\"Dataset deleted\")\n",
    "except IkatsNotFoundError:\n",
    "    print(\"Dataset Not Found\")"
   ]
  },
  {
   "cell_type": "code",
   "execution_count": 12,
   "metadata": {},
   "outputs": [
    {
     "data": {
      "text/plain": [
       "('9108924',\n",
       " {'import_month_day': '01_11',\n",
       "  'import_time': '17_58_28',\n",
       "  'import_year': '2019'})"
      ]
     },
     "execution_count": 12,
     "metadata": {},
     "output_type": "execute_result"
    }
   ],
   "source": [
    "api.ts.tsdb_client._get_metric_tags_from_tsuid('4C08320000010006E60000020006E0000003000666')"
   ]
  },
  {
   "cell_type": "code",
   "execution_count": null,
   "metadata": {},
   "outputs": [],
   "source": []
  }
 ],
 "metadata": {
  "kernelspec": {
   "display_name": "Python 3",
   "language": "python",
   "name": "python3"
  },
  "language_info": {
   "codemirror_mode": {
    "name": "ipython",
    "version": 3
   },
   "file_extension": ".py",
   "mimetype": "text/x-python",
   "name": "python",
   "nbconvert_exporter": "python",
   "pygments_lexer": "ipython3",
   "version": "3.6.7"
  }
 },
 "nbformat": 4,
 "nbformat_minor": 2
}
